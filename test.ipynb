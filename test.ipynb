{
 "cells": [
  {
   "cell_type": "markdown",
   "metadata": {},
   "source": [
    "第43回_Beginner限定コンペ】国勢調査からの収入予測\n",
    "https://signate.jp/competitions/987/data\n",
    "\n",
    "目的は収入予測の結果。国勢調査から、50,000ドル = 600万円くらいを超えるかどうかの２値を予想\n",
    "\n",
    "やること\n",
    "- 基礎的な2値分析\n",
    "- 基礎的なアルゴリズムを片っ端から試して値を予測 -> 判定\n",
    "- y-dataで可視化したやつを研究\n",
    "やったこと\n",
    "- 環境構築\n",
    "- y-dataの可視化"
   ]
  },
  {
   "cell_type": "code",
   "execution_count": 2,
   "metadata": {},
   "outputs": [
    {
     "name": "stderr",
     "output_type": "stream",
     "text": [
      "/var/folders/rm/jy7mq9j90l58_8h20wjcxmxm0000gn/T/ipykernel_34552/2162656668.py:1: DeprecationWarning: \n",
      "Pyarrow will become a required dependency of pandas in the next major release of pandas (pandas 3.0),\n",
      "(to allow more performant data types, such as the Arrow string type, and better interoperability with other libraries)\n",
      "but was not found to be installed on your system.\n",
      "If this would cause problems for you,\n",
      "please provide us feedback at https://github.com/pandas-dev/pandas/issues/54466\n",
      "        \n",
      "  import pandas as pd\n"
     ]
    }
   ],
   "source": [
    "import pandas as pd\n",
    "import numpy as np"
   ]
  },
  {
   "cell_type": "code",
   "execution_count": 6,
   "metadata": {},
   "outputs": [],
   "source": [
    "from ydata_profiling import ProfileReport "
   ]
  },
  {
   "cell_type": "code",
   "execution_count": 3,
   "metadata": {},
   "outputs": [
    {
     "name": "stdout",
     "output_type": "stream",
     "text": [
      "   index  age workclass  fnlwgt     education  education-num  \\\n",
      "0    322   21   Private  132652  Some-college             10   \n",
      "1  11968   29   Private  132652       HS-grad              9   \n",
      "2  10868   19   Private  132652     Bachelors             13   \n",
      "3   3394   17   Private  132652       HS-grad              9   \n",
      "4  15993   47   Private  132652  Some-college             10   \n",
      "\n",
      "       marital-status      occupation   relationship   race     sex  \\\n",
      "0            Divorced    Adm-clerical      Own-child  White  Female   \n",
      "1            Divorced    Adm-clerical  Not-in-family  White  Female   \n",
      "2       Never-married  Prof-specialty  Not-in-family  White  Female   \n",
      "3       Never-married    Craft-repair      Own-child  White    Male   \n",
      "4  Married-civ-spouse    Craft-repair        Husband  White    Male   \n",
      "\n",
      "  native-country  Y  \n",
      "0  United-States  0  \n",
      "1  United-States  0  \n",
      "2  United-States  0  \n",
      "3  United-States  0  \n",
      "4  United-States  0  \n"
     ]
    }
   ],
   "source": [
    "# CSVファイルのパス\n",
    "file_path = 'train.csv'\n",
    "\n",
    "# CSVファイルの読み込み\n",
    "df = pd.read_csv(file_path)\n"
   ]
  },
  {
   "cell_type": "code",
   "execution_count": 7,
   "metadata": {},
   "outputs": [
    {
     "data": {
      "application/vnd.jupyter.widget-view+json": {
       "model_id": "d79f560cd9c8476884f6995d6ff833e5",
       "version_major": 2,
       "version_minor": 0
      },
      "text/plain": [
       "Summarize dataset:   0%|          | 0/5 [00:00<?, ?it/s]"
      ]
     },
     "metadata": {},
     "output_type": "display_data"
    },
    {
     "name": "stderr",
     "output_type": "stream",
     "text": [
      "/Users/issei/miniforge3/envs/signate-43/lib/python3.11/site-packages/ydata_profiling/model/correlations.py:66: UserWarning: There was an attempt to calculate the auto correlation, but this failed.\n",
      "To hide this warning, disable the calculation\n",
      "(using `df.profile_report(correlations={\"auto\": {\"calculate\": False}})`\n",
      "If this is problematic for your use case, please report this as an issue:\n",
      "https://github.com/ydataai/ydata-profiling/issues\n",
      "(include the error message: 'could not convert string to float: 'Some-college'')\n",
      "  warnings.warn(\n"
     ]
    },
    {
     "data": {
      "application/vnd.jupyter.widget-view+json": {
       "model_id": "aee8479715784a61bab219dde90a5ea8",
       "version_major": 2,
       "version_minor": 0
      },
      "text/plain": [
       "Generate report structure:   0%|          | 0/1 [00:00<?, ?it/s]"
      ]
     },
     "metadata": {},
     "output_type": "display_data"
    },
    {
     "data": {
      "application/vnd.jupyter.widget-view+json": {
       "model_id": "0d5fc8e39018440ba83e17bdbeab1549",
       "version_major": 2,
       "version_minor": 0
      },
      "text/plain": [
       "Render HTML:   0%|          | 0/1 [00:00<?, ?it/s]"
      ]
     },
     "metadata": {},
     "output_type": "display_data"
    },
    {
     "data": {
      "application/vnd.jupyter.widget-view+json": {
       "model_id": "e811c195e87f4d029a1d5f9befb28433",
       "version_major": 2,
       "version_minor": 0
      },
      "text/plain": [
       "Export report to file:   0%|          | 0/1 [00:00<?, ?it/s]"
      ]
     },
     "metadata": {},
     "output_type": "display_data"
    }
   ],
   "source": [
    "# Pandas Profilingでレポートを作成\n",
    "profile = ProfileReport(\n",
    "    df,\n",
    "    title=\"Pandas Profiling Report\",\n",
    "    explorative=True,\n",
    ")\n",
    "\n",
    "# レポートをHTMLファイルとして保存（または表示）\n",
    "profile.to_file(\"report.html\")"
   ]
  }
 ],
 "metadata": {
  "kernelspec": {
   "display_name": "signate-43",
   "language": "python",
   "name": "python3"
  },
  "language_info": {
   "codemirror_mode": {
    "name": "ipython",
    "version": 3
   },
   "file_extension": ".py",
   "mimetype": "text/x-python",
   "name": "python",
   "nbconvert_exporter": "python",
   "pygments_lexer": "ipython3",
   "version": "3.11.7"
  }
 },
 "nbformat": 4,
 "nbformat_minor": 2
}
