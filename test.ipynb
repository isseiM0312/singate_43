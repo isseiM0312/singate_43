{
 "cells": [
  {
   "cell_type": "markdown",
   "metadata": {},
   "source": [
    "第43回_Beginner限定コンペ】国勢調査からの収入予測\n",
    "https://signate.jp/competitions/987/data\n",
    "\n",
    "目的は収入予測の結果。国勢調査から、50,000ドル = 600万円くらいを超えるかどうかの２値を予想\n",
    "\n",
    "やっていること\n",
    "- sklaernでロジスティックでの二値分析\n",
    "\n",
    "やること\n",
    "- 基礎的な2値分析\n",
    "- 基礎的なアルゴリズムを片っ端から試して値を予測 -> 判定\n",
    "- y-dataで可視化したやつを研究\n",
    "\n",
    "やったこと\n",
    "- 環境構築\n",
    "- y-dataの可視化"
   ]
  },
  {
   "cell_type": "code",
   "execution_count": 3,
   "metadata": {},
   "outputs": [
    {
     "name": "stderr",
     "output_type": "stream",
     "text": [
      "/var/folders/rm/jy7mq9j90l58_8h20wjcxmxm0000gn/T/ipykernel_35981/2162656668.py:1: DeprecationWarning: \n",
      "Pyarrow will become a required dependency of pandas in the next major release of pandas (pandas 3.0),\n",
      "(to allow more performant data types, such as the Arrow string type, and better interoperability with other libraries)\n",
      "but was not found to be installed on your system.\n",
      "If this would cause problems for you,\n",
      "please provide us feedback at https://github.com/pandas-dev/pandas/issues/54466\n",
      "        \n",
      "  import pandas as pd\n"
     ]
    }
   ],
   "source": [
    "import pandas as pd\n",
    "import numpy as np"
   ]
  },
  {
   "cell_type": "code",
   "execution_count": 4,
   "metadata": {},
   "outputs": [],
   "source": [
    "from ydata_profiling import ProfileReport "
   ]
  },
  {
   "cell_type": "code",
   "execution_count": 99,
   "metadata": {},
   "outputs": [],
   "source": [
    "# CSVファイルのパス\n",
    "train_path = \"train.csv\"\n",
    "test_path = \"test.csv\"\n",
    "\n",
    "# CSVファイルの読み込み\n",
    "train_df = pd.read_csv(train_path)\n",
    "test_df = pd.read_csv(test_path)"
   ]
  },
  {
   "cell_type": "code",
   "execution_count": null,
   "metadata": {},
   "outputs": [],
   "source": [
    "def get_unique_categories(df, column_name):\n",
    "    # 指定されたカラムのユニークな値を取得してリストにする\n",
    "    unique_categories = df[column_name].unique().tolist()\n",
    "\n",
    "    # 結果を返す\n",
    "    return unique_categories\n",
    "\n",
    "\n",
    "# 'workclass'カラムのカテゴリ変数の種類を集計\n",
    "workclass_categories = get_unique_categories(train_df, \"workclass\")\n",
    "fnlwgt_categories = get_unique_categories(train_df, \"fnlwgt\")\n",
    "education_categories = get_unique_categories(train_df, \"education\")\n",
    "marital_status_categories = get_unique_categories(train_df, \"marital-status\")\n",
    "occupation_categories = get_unique_categories(train_df, \"occupation\")\n",
    "relationship_categories = get_unique_categories(train_df, \"relationship\")\n",
    "race_categories = get_unique_categories(train_df, \"race\")\n",
    "sex_categories = get_unique_categories(train_df, \"sex\")\n",
    "native_country_categories = get_unique_categories(train_df, \"native-country\")\n",
    "\n",
    "\n",
    "print(workclass_categories)\n",
    "print(fnlwgt_categories)\n",
    "print(education_categories)\n",
    "print(marital_status_categories)\n",
    "print(occupation_categories)\n",
    "print(relationship_categories)\n",
    "print(race_categories)\n",
    "print(sex_categories)\n",
    "print(native_country_categories)"
   ]
  },
  {
   "cell_type": "code",
   "execution_count": 101,
   "metadata": {},
   "outputs": [
    {
     "name": "stdout",
     "output_type": "stream",
     "text": [
      "       index  age  workclass  fnlwgt  education  education-num  \\\n",
      "0        322   21          0  132652          0             10   \n",
      "1      11968   29          0  132652          1              9   \n",
      "2      10868   19          0  132652          2             13   \n",
      "3       3394   17          0  132652          1              9   \n",
      "4      15993   47          0  132652          0             10   \n",
      "...      ...  ...        ...     ...        ...            ...   \n",
      "11895   9225   23          0  132652          1              9   \n",
      "11896  13123   31          0  132652          1              9   \n",
      "11897   9845   21          0  132652          1              9   \n",
      "11898  10799   29          0  132652          2             13   \n",
      "11899   2732   17          0  132652          1              9   \n",
      "\n",
      "       marital-status  occupation  relationship  race  sex  native-country  Y  \n",
      "0                   2           0             2     0    0               0  0  \n",
      "1                   2           0             1     0    0               0  0  \n",
      "2                   1           1             1     0    0               0  0  \n",
      "3                   1           2             2     0    1               0  0  \n",
      "4                   0           2             0     0    1               0  0  \n",
      "...               ...         ...           ...   ...  ...             ... ..  \n",
      "11895               0           6             4     0    0               0  0  \n",
      "11896               2          10             3     1    0               0  0  \n",
      "11897               1          10             2     0    1               0  0  \n",
      "11898               1           9             1     0    1               0  0  \n",
      "11899               0           8             0     0    1               0  1  \n",
      "\n",
      "[11900 rows x 13 columns]\n"
     ]
    },
    {
     "name": "stderr",
     "output_type": "stream",
     "text": [
      "/var/folders/rm/jy7mq9j90l58_8h20wjcxmxm0000gn/T/ipykernel_35981/112548720.py:1: FutureWarning: A value is trying to be set on a copy of a DataFrame or Series through chained assignment using an inplace method.\n",
      "The behavior will change in pandas 3.0. This inplace method will never work because the intermediate object on which we are setting values always behaves as a copy.\n",
      "\n",
      "For example, when doing 'df[col].method(value, inplace=True)', try using 'df.method({col: value}, inplace=True)' or df[col] = df[col].method(value) instead, to perform the operation inplace on the original object.\n",
      "\n",
      "\n",
      "  train_df[\"workclass\"].replace(\n",
      "/var/folders/rm/jy7mq9j90l58_8h20wjcxmxm0000gn/T/ipykernel_35981/112548720.py:1: FutureWarning: Downcasting behavior in `replace` is deprecated and will be removed in a future version. To retain the old behavior, explicitly call `result.infer_objects(copy=False)`. To opt-in to the future behavior, set `pd.set_option('future.no_silent_downcasting', True)`\n",
      "  train_df[\"workclass\"].replace(\n",
      "/var/folders/rm/jy7mq9j90l58_8h20wjcxmxm0000gn/T/ipykernel_35981/112548720.py:20: FutureWarning: A value is trying to be set on a copy of a DataFrame or Series through chained assignment using an inplace method.\n",
      "The behavior will change in pandas 3.0. This inplace method will never work because the intermediate object on which we are setting values always behaves as a copy.\n",
      "\n",
      "For example, when doing 'df[col].method(value, inplace=True)', try using 'df.method({col: value}, inplace=True)' or df[col] = df[col].method(value) instead, to perform the operation inplace on the original object.\n",
      "\n",
      "\n",
      "  train_df[\"education\"].replace(\n",
      "/var/folders/rm/jy7mq9j90l58_8h20wjcxmxm0000gn/T/ipykernel_35981/112548720.py:20: FutureWarning: Downcasting behavior in `replace` is deprecated and will be removed in a future version. To retain the old behavior, explicitly call `result.infer_objects(copy=False)`. To opt-in to the future behavior, set `pd.set_option('future.no_silent_downcasting', True)`\n",
      "  train_df[\"education\"].replace(\n",
      "/var/folders/rm/jy7mq9j90l58_8h20wjcxmxm0000gn/T/ipykernel_35981/112548720.py:41: FutureWarning: A value is trying to be set on a copy of a DataFrame or Series through chained assignment using an inplace method.\n",
      "The behavior will change in pandas 3.0. This inplace method will never work because the intermediate object on which we are setting values always behaves as a copy.\n",
      "\n",
      "For example, when doing 'df[col].method(value, inplace=True)', try using 'df.method({col: value}, inplace=True)' or df[col] = df[col].method(value) instead, to perform the operation inplace on the original object.\n",
      "\n",
      "\n",
      "  train_df[\"marital-status\"].replace(\n",
      "/var/folders/rm/jy7mq9j90l58_8h20wjcxmxm0000gn/T/ipykernel_35981/112548720.py:41: FutureWarning: Downcasting behavior in `replace` is deprecated and will be removed in a future version. To retain the old behavior, explicitly call `result.infer_objects(copy=False)`. To opt-in to the future behavior, set `pd.set_option('future.no_silent_downcasting', True)`\n",
      "  train_df[\"marital-status\"].replace(\n",
      "/var/folders/rm/jy7mq9j90l58_8h20wjcxmxm0000gn/T/ipykernel_35981/112548720.py:55: FutureWarning: A value is trying to be set on a copy of a DataFrame or Series through chained assignment using an inplace method.\n",
      "The behavior will change in pandas 3.0. This inplace method will never work because the intermediate object on which we are setting values always behaves as a copy.\n",
      "\n",
      "For example, when doing 'df[col].method(value, inplace=True)', try using 'df.method({col: value}, inplace=True)' or df[col] = df[col].method(value) instead, to perform the operation inplace on the original object.\n",
      "\n",
      "\n",
      "  train_df[\"occupation\"].replace(\n",
      "/var/folders/rm/jy7mq9j90l58_8h20wjcxmxm0000gn/T/ipykernel_35981/112548720.py:55: FutureWarning: Downcasting behavior in `replace` is deprecated and will be removed in a future version. To retain the old behavior, explicitly call `result.infer_objects(copy=False)`. To opt-in to the future behavior, set `pd.set_option('future.no_silent_downcasting', True)`\n",
      "  train_df[\"occupation\"].replace(\n",
      "/var/folders/rm/jy7mq9j90l58_8h20wjcxmxm0000gn/T/ipykernel_35981/112548720.py:75: FutureWarning: A value is trying to be set on a copy of a DataFrame or Series through chained assignment using an inplace method.\n",
      "The behavior will change in pandas 3.0. This inplace method will never work because the intermediate object on which we are setting values always behaves as a copy.\n",
      "\n",
      "For example, when doing 'df[col].method(value, inplace=True)', try using 'df.method({col: value}, inplace=True)' or df[col] = df[col].method(value) instead, to perform the operation inplace on the original object.\n",
      "\n",
      "\n",
      "  train_df[\"relationship\"].replace(\n",
      "/var/folders/rm/jy7mq9j90l58_8h20wjcxmxm0000gn/T/ipykernel_35981/112548720.py:75: FutureWarning: Downcasting behavior in `replace` is deprecated and will be removed in a future version. To retain the old behavior, explicitly call `result.infer_objects(copy=False)`. To opt-in to the future behavior, set `pd.set_option('future.no_silent_downcasting', True)`\n",
      "  train_df[\"relationship\"].replace(\n",
      "/var/folders/rm/jy7mq9j90l58_8h20wjcxmxm0000gn/T/ipykernel_35981/112548720.py:88: FutureWarning: A value is trying to be set on a copy of a DataFrame or Series through chained assignment using an inplace method.\n",
      "The behavior will change in pandas 3.0. This inplace method will never work because the intermediate object on which we are setting values always behaves as a copy.\n",
      "\n",
      "For example, when doing 'df[col].method(value, inplace=True)', try using 'df.method({col: value}, inplace=True)' or df[col] = df[col].method(value) instead, to perform the operation inplace on the original object.\n",
      "\n",
      "\n",
      "  train_df[\"race\"].replace(\n",
      "/var/folders/rm/jy7mq9j90l58_8h20wjcxmxm0000gn/T/ipykernel_35981/112548720.py:88: FutureWarning: Downcasting behavior in `replace` is deprecated and will be removed in a future version. To retain the old behavior, explicitly call `result.infer_objects(copy=False)`. To opt-in to the future behavior, set `pd.set_option('future.no_silent_downcasting', True)`\n",
      "  train_df[\"race\"].replace(\n",
      "/var/folders/rm/jy7mq9j90l58_8h20wjcxmxm0000gn/T/ipykernel_35981/112548720.py:100: FutureWarning: A value is trying to be set on a copy of a DataFrame or Series through chained assignment using an inplace method.\n",
      "The behavior will change in pandas 3.0. This inplace method will never work because the intermediate object on which we are setting values always behaves as a copy.\n",
      "\n",
      "For example, when doing 'df[col].method(value, inplace=True)', try using 'df.method({col: value}, inplace=True)' or df[col] = df[col].method(value) instead, to perform the operation inplace on the original object.\n",
      "\n",
      "\n",
      "  train_df[\"sex\"].replace(\n",
      "/var/folders/rm/jy7mq9j90l58_8h20wjcxmxm0000gn/T/ipykernel_35981/112548720.py:100: FutureWarning: Downcasting behavior in `replace` is deprecated and will be removed in a future version. To retain the old behavior, explicitly call `result.infer_objects(copy=False)`. To opt-in to the future behavior, set `pd.set_option('future.no_silent_downcasting', True)`\n",
      "  train_df[\"sex\"].replace(\n",
      "/var/folders/rm/jy7mq9j90l58_8h20wjcxmxm0000gn/T/ipykernel_35981/112548720.py:106: FutureWarning: A value is trying to be set on a copy of a DataFrame or Series through chained assignment using an inplace method.\n",
      "The behavior will change in pandas 3.0. This inplace method will never work because the intermediate object on which we are setting values always behaves as a copy.\n",
      "\n",
      "For example, when doing 'df[col].method(value, inplace=True)', try using 'df.method({col: value}, inplace=True)' or df[col] = df[col].method(value) instead, to perform the operation inplace on the original object.\n",
      "\n",
      "\n",
      "  train_df[\"native-country\"].replace(\n",
      "/var/folders/rm/jy7mq9j90l58_8h20wjcxmxm0000gn/T/ipykernel_35981/112548720.py:106: FutureWarning: Downcasting behavior in `replace` is deprecated and will be removed in a future version. To retain the old behavior, explicitly call `result.infer_objects(copy=False)`. To opt-in to the future behavior, set `pd.set_option('future.no_silent_downcasting', True)`\n",
      "  train_df[\"native-country\"].replace(\n"
     ]
    }
   ],
   "source": [
    "train_df[\"workclass\"].replace(\n",
    "    [\n",
    "        \"Private\",\n",
    "        \"State-gov\",\n",
    "        \"?\",\n",
    "        \"Local-gov\",\n",
    "        \"Federal-gov\",\n",
    "        \"Self-emp-inc\",\n",
    "        \"Self-emp-not-inc\",\n",
    "    ],\n",
    "    [0, 1, 2, 3, 4, 5, 6],\n",
    "    inplace=True,\n",
    ")\n",
    "\n",
    "train_df[\"fnlwgt\"].replace(\n",
    "    [132652, 24694, 34572],\n",
    "    [0, 1, 2],\n",
    ")\n",
    "\n",
    "train_df[\"education\"].replace(\n",
    "    [\n",
    "        \"Some-college\",\n",
    "        \"HS-grad\",\n",
    "        \"Bachelors\",\n",
    "        \"Masters\",\n",
    "        \"Prof-school\",\n",
    "        \"12th\",\n",
    "        \"Assoc-voc\",\n",
    "        \"Assoc-acdm\",\n",
    "        \"11th\",\n",
    "        \"10th\",\n",
    "        \"7th-8th\",\n",
    "        \"5th-6th\",\n",
    "        \"9th\",\n",
    "        \"1st-4th\",\n",
    "    ],\n",
    "    [0, 1, 2, 3, 4, 5, 6, 7, 8, 9, 10, 11, 12, 13],\n",
    "    inplace=True,\n",
    ")\n",
    "\n",
    "train_df[\"marital-status\"].replace(\n",
    "    [\n",
    "        \"Married-civ-spouse\",\n",
    "        \"Never-married\",\n",
    "        \"Divorced\",\n",
    "        \"Separated\",\n",
    "        \"Widowed\",\n",
    "        \"Married-spouse-absent\",\n",
    "        \"Married-AF-spouse\",\n",
    "    ],\n",
    "    [0, 1, 2, 3, 4, 5, 6],\n",
    "    inplace=True,\n",
    ")\n",
    "\n",
    "train_df[\"occupation\"].replace(\n",
    "    [\n",
    "        \"Adm-clerical\",\n",
    "        \"Prof-specialty\",\n",
    "        \"Craft-repair\",\n",
    "        \"Protective-serv\",\n",
    "        \"Exec-managerial\",\n",
    "        \"?\",\n",
    "        \"Sales\",\n",
    "        \"Handlers-cleaners\",\n",
    "        \"Tech-support\",\n",
    "        \"Machine-op-inspct\",\n",
    "        \"Other-service\",\n",
    "        \"Farming-fishing\",\n",
    "        \"Transport-moving\",\n",
    "    ],\n",
    "    [0, 1, 2, 3, 4, 5, 6, 7, 8, 9, 10, 11, 12,],\n",
    "    inplace=True,\n",
    ")\n",
    "\n",
    "train_df[\"relationship\"].replace(\n",
    "    [\n",
    "        \"Husband\",\n",
    "        \"Not-in-family\",\n",
    "        \"Own-child\",\n",
    "        \"Unmarried\",\n",
    "        \"Wife\",\n",
    "        \"Other-relative\",\n",
    "    ],\n",
    "    [0, 1, 2, 3, 4, 5],\n",
    "    inplace=True,\n",
    ")\n",
    "\n",
    "train_df[\"race\"].replace(\n",
    "    [\n",
    "        \"White\",\n",
    "        \"Black\",\n",
    "        \"Asian-Pac-Islander\",\n",
    "        \"Amer-Indian-Eskimo\",\n",
    "        \"Other\",\n",
    "    ],\n",
    "    [0, 1, 2, 3, 4],\n",
    "    inplace=True,\n",
    ")\n",
    "\n",
    "train_df[\"sex\"].replace(\n",
    "    [\"Female\", \"Male\"],\n",
    "    [0, 1],\n",
    "    inplace=True,\n",
    ")\n",
    "\n",
    "train_df[\"native-country\"].replace(\n",
    "    [\"United-States\", \"Mexico\", \"Philippines\"],\n",
    "    [0, 1, 2],\n",
    "    inplace=True,\n",
    ")\n",
    "\n",
    "print(train_df)"
   ]
  },
  {
   "cell_type": "code",
   "execution_count": 102,
   "metadata": {},
   "outputs": [
    {
     "name": "stdout",
     "output_type": "stream",
     "text": [
      "      index  age  workclass  fnlwgt  education  education-num  marital-status  \\\n",
      "0      3873   17          3  132652          3             14               0   \n",
      "1      3625   23          0  132652          0             10               0   \n",
      "2      3028   19          0  132652          8              7               1   \n",
      "3     13814   30          1  132652          1              9               1   \n",
      "4     15398   60          0  132652          2             13               0   \n",
      "...     ...  ...        ...     ...        ...            ...             ...   \n",
      "5095   6726   19          0  132652          0             10               1   \n",
      "5096   1501   23          0  132652          1              9               0   \n",
      "5097   6391   36          0  132652         12              5               0   \n",
      "5098   7104   33          0  132652          4             11               1   \n",
      "5099   4214   36          3  132652          2             13               0   \n",
      "\n",
      "      occupation  relationship  race  sex  native-country  \n",
      "0              1             0     0    1               0  \n",
      "1              6             0     0    1               0  \n",
      "2              7             2     0    0               0  \n",
      "3              3             3     1    0               0  \n",
      "4              1             0     0    1               0  \n",
      "...          ...           ...   ...  ...             ...  \n",
      "5095           4             3     0    0               0  \n",
      "5096           6             0     0    1               0  \n",
      "5097           9             0     0    1               0  \n",
      "5098           1             1     0    1               0  \n",
      "5099           0             0     0    1               0  \n",
      "\n",
      "[5100 rows x 12 columns]\n"
     ]
    },
    {
     "name": "stderr",
     "output_type": "stream",
     "text": [
      "/var/folders/rm/jy7mq9j90l58_8h20wjcxmxm0000gn/T/ipykernel_35981/706655261.py:1: FutureWarning: A value is trying to be set on a copy of a DataFrame or Series through chained assignment using an inplace method.\n",
      "The behavior will change in pandas 3.0. This inplace method will never work because the intermediate object on which we are setting values always behaves as a copy.\n",
      "\n",
      "For example, when doing 'df[col].method(value, inplace=True)', try using 'df.method({col: value}, inplace=True)' or df[col] = df[col].method(value) instead, to perform the operation inplace on the original object.\n",
      "\n",
      "\n",
      "  test_df[\"workclass\"].replace(\n",
      "/var/folders/rm/jy7mq9j90l58_8h20wjcxmxm0000gn/T/ipykernel_35981/706655261.py:1: FutureWarning: Downcasting behavior in `replace` is deprecated and will be removed in a future version. To retain the old behavior, explicitly call `result.infer_objects(copy=False)`. To opt-in to the future behavior, set `pd.set_option('future.no_silent_downcasting', True)`\n",
      "  test_df[\"workclass\"].replace(\n",
      "/var/folders/rm/jy7mq9j90l58_8h20wjcxmxm0000gn/T/ipykernel_35981/706655261.py:15: FutureWarning: A value is trying to be set on a copy of a DataFrame or Series through chained assignment using an inplace method.\n",
      "The behavior will change in pandas 3.0. This inplace method will never work because the intermediate object on which we are setting values always behaves as a copy.\n",
      "\n",
      "For example, when doing 'df[col].method(value, inplace=True)', try using 'df.method({col: value}, inplace=True)' or df[col] = df[col].method(value) instead, to perform the operation inplace on the original object.\n",
      "\n",
      "\n",
      "  test_df[\"education\"].replace(\n",
      "/var/folders/rm/jy7mq9j90l58_8h20wjcxmxm0000gn/T/ipykernel_35981/706655261.py:15: FutureWarning: Downcasting behavior in `replace` is deprecated and will be removed in a future version. To retain the old behavior, explicitly call `result.infer_objects(copy=False)`. To opt-in to the future behavior, set `pd.set_option('future.no_silent_downcasting', True)`\n",
      "  test_df[\"education\"].replace(\n",
      "/var/folders/rm/jy7mq9j90l58_8h20wjcxmxm0000gn/T/ipykernel_35981/706655261.py:36: FutureWarning: A value is trying to be set on a copy of a DataFrame or Series through chained assignment using an inplace method.\n",
      "The behavior will change in pandas 3.0. This inplace method will never work because the intermediate object on which we are setting values always behaves as a copy.\n",
      "\n",
      "For example, when doing 'df[col].method(value, inplace=True)', try using 'df.method({col: value}, inplace=True)' or df[col] = df[col].method(value) instead, to perform the operation inplace on the original object.\n",
      "\n",
      "\n",
      "  test_df[\"marital-status\"].replace(\n",
      "/var/folders/rm/jy7mq9j90l58_8h20wjcxmxm0000gn/T/ipykernel_35981/706655261.py:36: FutureWarning: Downcasting behavior in `replace` is deprecated and will be removed in a future version. To retain the old behavior, explicitly call `result.infer_objects(copy=False)`. To opt-in to the future behavior, set `pd.set_option('future.no_silent_downcasting', True)`\n",
      "  test_df[\"marital-status\"].replace(\n",
      "/var/folders/rm/jy7mq9j90l58_8h20wjcxmxm0000gn/T/ipykernel_35981/706655261.py:50: FutureWarning: A value is trying to be set on a copy of a DataFrame or Series through chained assignment using an inplace method.\n",
      "The behavior will change in pandas 3.0. This inplace method will never work because the intermediate object on which we are setting values always behaves as a copy.\n",
      "\n",
      "For example, when doing 'df[col].method(value, inplace=True)', try using 'df.method({col: value}, inplace=True)' or df[col] = df[col].method(value) instead, to perform the operation inplace on the original object.\n",
      "\n",
      "\n",
      "  test_df[\"occupation\"].replace(\n",
      "/var/folders/rm/jy7mq9j90l58_8h20wjcxmxm0000gn/T/ipykernel_35981/706655261.py:50: FutureWarning: Downcasting behavior in `replace` is deprecated and will be removed in a future version. To retain the old behavior, explicitly call `result.infer_objects(copy=False)`. To opt-in to the future behavior, set `pd.set_option('future.no_silent_downcasting', True)`\n",
      "  test_df[\"occupation\"].replace(\n",
      "/var/folders/rm/jy7mq9j90l58_8h20wjcxmxm0000gn/T/ipykernel_35981/706655261.py:70: FutureWarning: A value is trying to be set on a copy of a DataFrame or Series through chained assignment using an inplace method.\n",
      "The behavior will change in pandas 3.0. This inplace method will never work because the intermediate object on which we are setting values always behaves as a copy.\n",
      "\n",
      "For example, when doing 'df[col].method(value, inplace=True)', try using 'df.method({col: value}, inplace=True)' or df[col] = df[col].method(value) instead, to perform the operation inplace on the original object.\n",
      "\n",
      "\n",
      "  test_df[\"relationship\"].replace(\n",
      "/var/folders/rm/jy7mq9j90l58_8h20wjcxmxm0000gn/T/ipykernel_35981/706655261.py:70: FutureWarning: Downcasting behavior in `replace` is deprecated and will be removed in a future version. To retain the old behavior, explicitly call `result.infer_objects(copy=False)`. To opt-in to the future behavior, set `pd.set_option('future.no_silent_downcasting', True)`\n",
      "  test_df[\"relationship\"].replace(\n",
      "/var/folders/rm/jy7mq9j90l58_8h20wjcxmxm0000gn/T/ipykernel_35981/706655261.py:83: FutureWarning: A value is trying to be set on a copy of a DataFrame or Series through chained assignment using an inplace method.\n",
      "The behavior will change in pandas 3.0. This inplace method will never work because the intermediate object on which we are setting values always behaves as a copy.\n",
      "\n",
      "For example, when doing 'df[col].method(value, inplace=True)', try using 'df.method({col: value}, inplace=True)' or df[col] = df[col].method(value) instead, to perform the operation inplace on the original object.\n",
      "\n",
      "\n",
      "  test_df[\"race\"].replace(\n",
      "/var/folders/rm/jy7mq9j90l58_8h20wjcxmxm0000gn/T/ipykernel_35981/706655261.py:83: FutureWarning: Downcasting behavior in `replace` is deprecated and will be removed in a future version. To retain the old behavior, explicitly call `result.infer_objects(copy=False)`. To opt-in to the future behavior, set `pd.set_option('future.no_silent_downcasting', True)`\n",
      "  test_df[\"race\"].replace(\n",
      "/var/folders/rm/jy7mq9j90l58_8h20wjcxmxm0000gn/T/ipykernel_35981/706655261.py:95: FutureWarning: A value is trying to be set on a copy of a DataFrame or Series through chained assignment using an inplace method.\n",
      "The behavior will change in pandas 3.0. This inplace method will never work because the intermediate object on which we are setting values always behaves as a copy.\n",
      "\n",
      "For example, when doing 'df[col].method(value, inplace=True)', try using 'df.method({col: value}, inplace=True)' or df[col] = df[col].method(value) instead, to perform the operation inplace on the original object.\n",
      "\n",
      "\n",
      "  test_df[\"sex\"].replace(\n",
      "/var/folders/rm/jy7mq9j90l58_8h20wjcxmxm0000gn/T/ipykernel_35981/706655261.py:95: FutureWarning: Downcasting behavior in `replace` is deprecated and will be removed in a future version. To retain the old behavior, explicitly call `result.infer_objects(copy=False)`. To opt-in to the future behavior, set `pd.set_option('future.no_silent_downcasting', True)`\n",
      "  test_df[\"sex\"].replace(\n",
      "/var/folders/rm/jy7mq9j90l58_8h20wjcxmxm0000gn/T/ipykernel_35981/706655261.py:101: FutureWarning: A value is trying to be set on a copy of a DataFrame or Series through chained assignment using an inplace method.\n",
      "The behavior will change in pandas 3.0. This inplace method will never work because the intermediate object on which we are setting values always behaves as a copy.\n",
      "\n",
      "For example, when doing 'df[col].method(value, inplace=True)', try using 'df.method({col: value}, inplace=True)' or df[col] = df[col].method(value) instead, to perform the operation inplace on the original object.\n",
      "\n",
      "\n",
      "  test_df[\"native-country\"].replace(\n",
      "/var/folders/rm/jy7mq9j90l58_8h20wjcxmxm0000gn/T/ipykernel_35981/706655261.py:101: FutureWarning: Downcasting behavior in `replace` is deprecated and will be removed in a future version. To retain the old behavior, explicitly call `result.infer_objects(copy=False)`. To opt-in to the future behavior, set `pd.set_option('future.no_silent_downcasting', True)`\n",
      "  test_df[\"native-country\"].replace(\n"
     ]
    }
   ],
   "source": [
    "test_df[\"workclass\"].replace(\n",
    "    [\n",
    "        \"Private\",\n",
    "        \"State-gov\",\n",
    "        \"?\",\n",
    "        \"Local-gov\",\n",
    "        \"Federal-gov\",\n",
    "        \"Self-emp-inc\",\n",
    "        \"Self-emp-not-inc\",\n",
    "    ],\n",
    "    [0, 1, 2, 3, 4, 5, 6],\n",
    "    inplace=True,\n",
    ")\n",
    "\n",
    "test_df[\"education\"].replace(\n",
    "    [\n",
    "        \"Some-college\",\n",
    "        \"HS-grad\",\n",
    "        \"Bachelors\",\n",
    "        \"Masters\",\n",
    "        \"Prof-school\",\n",
    "        \"12th\",\n",
    "        \"Assoc-voc\",\n",
    "        \"Assoc-acdm\",\n",
    "        \"11th\",\n",
    "        \"10th\",\n",
    "        \"7th-8th\",\n",
    "        \"5th-6th\",\n",
    "        \"9th\",\n",
    "        \"1st-4th\",\n",
    "    ],\n",
    "    [0, 1, 2, 3, 4, 5, 6, 7, 8, 9, 10, 11, 12, 13],\n",
    "    inplace=True,\n",
    ")\n",
    "\n",
    "test_df[\"marital-status\"].replace(\n",
    "    [\n",
    "        \"Married-civ-spouse\",\n",
    "        \"Never-married\",\n",
    "        \"Divorced\",\n",
    "        \"Separated\",\n",
    "        \"Widowed\",\n",
    "        \"Married-spouse-absent\",\n",
    "        \"Married-AF-spouse\",\n",
    "    ],\n",
    "    [0, 1, 2, 3, 4, 5, 6],\n",
    "    inplace=True,\n",
    ")\n",
    "\n",
    "test_df[\"occupation\"].replace(\n",
    "    [\n",
    "        \"Adm-clerical\",\n",
    "        \"Prof-specialty\",\n",
    "        \"Craft-repair\",\n",
    "        \"Protective-serv\",\n",
    "        \"Exec-managerial\",\n",
    "        \"?\",\n",
    "        \"Sales\",\n",
    "        \"Handlers-cleaners\",\n",
    "        \"Tech-support\",\n",
    "        \"Machine-op-inspct\",\n",
    "        \"Other-service\",\n",
    "        \"Farming-fishing\",\n",
    "        \"Transport-moving\",\n",
    "    ],\n",
    "    [0, 1, 2, 3, 4, 5, 6, 7, 8, 9, 10, 11, 12,],\n",
    "    inplace=True,\n",
    ")\n",
    "\n",
    "test_df[\"relationship\"].replace(\n",
    "    [\n",
    "        \"Husband\",\n",
    "        \"Not-in-family\",\n",
    "        \"Own-child\",\n",
    "        \"Unmarried\",\n",
    "        \"Wife\",\n",
    "        \"Other-relative\",\n",
    "    ],\n",
    "    [0, 1, 2, 3, 4, 5],\n",
    "    inplace=True,\n",
    ")\n",
    "\n",
    "test_df[\"race\"].replace(\n",
    "    [\n",
    "        \"White\",\n",
    "        \"Black\",\n",
    "        \"Asian-Pac-Islander\",\n",
    "        \"Amer-Indian-Eskimo\",\n",
    "        \"Other\",\n",
    "    ],\n",
    "    [0, 1, 2, 3, 4],\n",
    "    inplace=True,\n",
    ")\n",
    "\n",
    "test_df[\"sex\"].replace(\n",
    "    [\"Female\", \"Male\"],\n",
    "    [0, 1],\n",
    "    inplace=True,\n",
    ")\n",
    "\n",
    "test_df[\"native-country\"].replace(\n",
    "    [\"United-States\", \"Mexico\", \"Philippines\"],\n",
    "    [0, 1, 2],\n",
    "    inplace=True,\n",
    ")\n",
    "\n",
    "print(test_df)"
   ]
  },
  {
   "cell_type": "code",
   "execution_count": 103,
   "metadata": {},
   "outputs": [
    {
     "name": "stdout",
     "output_type": "stream",
     "text": [
      "   age  workclass  fnlwgt  education  education-num  marital-status  \\\n",
      "0   21          0  132652          0             10               2   \n",
      "1   29          0  132652          1              9               2   \n",
      "2   19          0  132652          2             13               1   \n",
      "3   17          0  132652          1              9               1   \n",
      "4   47          0  132652          0             10               0   \n",
      "\n",
      "   occupation  relationship  race  sex  native-country  \n",
      "0           0             2     0    0               0  \n",
      "1           0             1     0    0               0  \n",
      "2           1             1     0    0               0  \n",
      "3           2             2     0    1               0  \n",
      "4           2             0     0    1               0  \n",
      "0     0\n",
      "1     0\n",
      "2     0\n",
      "3     0\n",
      "4     0\n",
      "5     0\n",
      "6     0\n",
      "7     0\n",
      "8     0\n",
      "9     1\n",
      "10    0\n",
      "11    1\n",
      "12    0\n",
      "13    0\n",
      "14    0\n",
      "15    0\n",
      "16    0\n",
      "17    0\n",
      "18    1\n",
      "19    0\n",
      "Name: Y, dtype: int64\n"
     ]
    }
   ],
   "source": [
    "x_train = train_df.drop(['index','Y'], axis=1)  # 'Y'列を除外して特徴量を取得\n",
    "y_train = train_df['Y']  \n",
    "\n",
    "# 結果の確認\n",
    "print(x_train.head())  # x_trainの最初の数行を表示\n",
    "print(y_train.head(20))"
   ]
  },
  {
   "cell_type": "code",
   "execution_count": 104,
   "metadata": {},
   "outputs": [
    {
     "data": {
      "application/vnd.jupyter.widget-view+json": {
       "model_id": "9f1f9aa35648437db1b088dd47db2e08",
       "version_major": 2,
       "version_minor": 0
      },
      "text/plain": [
       "Summarize dataset:   0%|          | 0/5 [00:00<?, ?it/s]"
      ]
     },
     "metadata": {},
     "output_type": "display_data"
    },
    {
     "data": {
      "application/vnd.jupyter.widget-view+json": {
       "model_id": "6e322cea877343aca494e6fb30b32a84",
       "version_major": 2,
       "version_minor": 0
      },
      "text/plain": [
       "Generate report structure:   0%|          | 0/1 [00:00<?, ?it/s]"
      ]
     },
     "metadata": {},
     "output_type": "display_data"
    },
    {
     "data": {
      "application/vnd.jupyter.widget-view+json": {
       "model_id": "2a72f41671074e23baa0061c51a5c155",
       "version_major": 2,
       "version_minor": 0
      },
      "text/plain": [
       "Render HTML:   0%|          | 0/1 [00:00<?, ?it/s]"
      ]
     },
     "metadata": {},
     "output_type": "display_data"
    },
    {
     "data": {
      "application/vnd.jupyter.widget-view+json": {
       "model_id": "877101bfa7b4425b8b2ca4af38737cb4",
       "version_major": 2,
       "version_minor": 0
      },
      "text/plain": [
       "Export report to file:   0%|          | 0/1 [00:00<?, ?it/s]"
      ]
     },
     "metadata": {},
     "output_type": "display_data"
    }
   ],
   "source": [
    "# Pandas Profilingでレポートを作成\n",
    "profile = ProfileReport(\n",
    "    train_df,\n",
    "    title=\"Pandas Profiling Report\",\n",
    "    explorative=True,\n",
    ")\n",
    "\n",
    "# レポートをHTMLファイルとして保存（または表示）\n",
    "profile.to_file(\"report.html\")"
   ]
  },
  {
   "cell_type": "code",
   "execution_count": 105,
   "metadata": {},
   "outputs": [],
   "source": [
    "from sklearn.linear_model import LogisticRegression"
   ]
  },
  {
   "cell_type": "code",
   "execution_count": 112,
   "metadata": {},
   "outputs": [],
   "source": [
    "clf = LogisticRegression(penalty=\"l2\", solver=\"sag\", random_state=0 ,class_weight='balanced')"
   ]
  },
  {
   "cell_type": "code",
   "execution_count": 113,
   "metadata": {},
   "outputs": [
    {
     "name": "stderr",
     "output_type": "stream",
     "text": [
      "/Users/issei/miniforge3/envs/signate-43/lib/python3.11/site-packages/sklearn/linear_model/_sag.py:350: ConvergenceWarning: The max_iter was reached which means the coef_ did not converge\n",
      "  warnings.warn(\n"
     ]
    },
    {
     "data": {
      "text/html": [
       "<style>#sk-container-id-11 {color: black;background-color: white;}#sk-container-id-11 pre{padding: 0;}#sk-container-id-11 div.sk-toggleable {background-color: white;}#sk-container-id-11 label.sk-toggleable__label {cursor: pointer;display: block;width: 100%;margin-bottom: 0;padding: 0.3em;box-sizing: border-box;text-align: center;}#sk-container-id-11 label.sk-toggleable__label-arrow:before {content: \"▸\";float: left;margin-right: 0.25em;color: #696969;}#sk-container-id-11 label.sk-toggleable__label-arrow:hover:before {color: black;}#sk-container-id-11 div.sk-estimator:hover label.sk-toggleable__label-arrow:before {color: black;}#sk-container-id-11 div.sk-toggleable__content {max-height: 0;max-width: 0;overflow: hidden;text-align: left;background-color: #f0f8ff;}#sk-container-id-11 div.sk-toggleable__content pre {margin: 0.2em;color: black;border-radius: 0.25em;background-color: #f0f8ff;}#sk-container-id-11 input.sk-toggleable__control:checked~div.sk-toggleable__content {max-height: 200px;max-width: 100%;overflow: auto;}#sk-container-id-11 input.sk-toggleable__control:checked~label.sk-toggleable__label-arrow:before {content: \"▾\";}#sk-container-id-11 div.sk-estimator input.sk-toggleable__control:checked~label.sk-toggleable__label {background-color: #d4ebff;}#sk-container-id-11 div.sk-label input.sk-toggleable__control:checked~label.sk-toggleable__label {background-color: #d4ebff;}#sk-container-id-11 input.sk-hidden--visually {border: 0;clip: rect(1px 1px 1px 1px);clip: rect(1px, 1px, 1px, 1px);height: 1px;margin: -1px;overflow: hidden;padding: 0;position: absolute;width: 1px;}#sk-container-id-11 div.sk-estimator {font-family: monospace;background-color: #f0f8ff;border: 1px dotted black;border-radius: 0.25em;box-sizing: border-box;margin-bottom: 0.5em;}#sk-container-id-11 div.sk-estimator:hover {background-color: #d4ebff;}#sk-container-id-11 div.sk-parallel-item::after {content: \"\";width: 100%;border-bottom: 1px solid gray;flex-grow: 1;}#sk-container-id-11 div.sk-label:hover label.sk-toggleable__label {background-color: #d4ebff;}#sk-container-id-11 div.sk-serial::before {content: \"\";position: absolute;border-left: 1px solid gray;box-sizing: border-box;top: 0;bottom: 0;left: 50%;z-index: 0;}#sk-container-id-11 div.sk-serial {display: flex;flex-direction: column;align-items: center;background-color: white;padding-right: 0.2em;padding-left: 0.2em;position: relative;}#sk-container-id-11 div.sk-item {position: relative;z-index: 1;}#sk-container-id-11 div.sk-parallel {display: flex;align-items: stretch;justify-content: center;background-color: white;position: relative;}#sk-container-id-11 div.sk-item::before, #sk-container-id-11 div.sk-parallel-item::before {content: \"\";position: absolute;border-left: 1px solid gray;box-sizing: border-box;top: 0;bottom: 0;left: 50%;z-index: -1;}#sk-container-id-11 div.sk-parallel-item {display: flex;flex-direction: column;z-index: 1;position: relative;background-color: white;}#sk-container-id-11 div.sk-parallel-item:first-child::after {align-self: flex-end;width: 50%;}#sk-container-id-11 div.sk-parallel-item:last-child::after {align-self: flex-start;width: 50%;}#sk-container-id-11 div.sk-parallel-item:only-child::after {width: 0;}#sk-container-id-11 div.sk-dashed-wrapped {border: 1px dashed gray;margin: 0 0.4em 0.5em 0.4em;box-sizing: border-box;padding-bottom: 0.4em;background-color: white;}#sk-container-id-11 div.sk-label label {font-family: monospace;font-weight: bold;display: inline-block;line-height: 1.2em;}#sk-container-id-11 div.sk-label-container {text-align: center;}#sk-container-id-11 div.sk-container {/* jupyter's `normalize.less` sets `[hidden] { display: none; }` but bootstrap.min.css set `[hidden] { display: none !important; }` so we also need the `!important` here to be able to override the default hidden behavior on the sphinx rendered scikit-learn.org. See: https://github.com/scikit-learn/scikit-learn/issues/21755 */display: inline-block !important;position: relative;}#sk-container-id-11 div.sk-text-repr-fallback {display: none;}</style><div id=\"sk-container-id-11\" class=\"sk-top-container\"><div class=\"sk-text-repr-fallback\"><pre>LogisticRegression(class_weight=&#x27;balanced&#x27;, random_state=0, solver=&#x27;sag&#x27;)</pre><b>In a Jupyter environment, please rerun this cell to show the HTML representation or trust the notebook. <br />On GitHub, the HTML representation is unable to render, please try loading this page with nbviewer.org.</b></div><div class=\"sk-container\" hidden><div class=\"sk-item\"><div class=\"sk-estimator sk-toggleable\"><input class=\"sk-toggleable__control sk-hidden--visually\" id=\"sk-estimator-id-11\" type=\"checkbox\" checked><label for=\"sk-estimator-id-11\" class=\"sk-toggleable__label sk-toggleable__label-arrow\">LogisticRegression</label><div class=\"sk-toggleable__content\"><pre>LogisticRegression(class_weight=&#x27;balanced&#x27;, random_state=0, solver=&#x27;sag&#x27;)</pre></div></div></div></div></div>"
      ],
      "text/plain": [
       "LogisticRegression(class_weight='balanced', random_state=0, solver='sag')"
      ]
     },
     "execution_count": 113,
     "metadata": {},
     "output_type": "execute_result"
    }
   ],
   "source": [
    "clf.fit(x_train, y_train)"
   ]
  },
  {
   "cell_type": "code",
   "execution_count": 114,
   "metadata": {},
   "outputs": [],
   "source": [
    "x_test = test_df.drop(['index'], axis=1)  "
   ]
  },
  {
   "cell_type": "code",
   "execution_count": 115,
   "metadata": {},
   "outputs": [],
   "source": [
    "y_pred = clf.predict(x_test)"
   ]
  },
  {
   "cell_type": "code",
   "execution_count": 117,
   "metadata": {},
   "outputs": [
    {
     "name": "stdout",
     "output_type": "stream",
     "text": [
      "[0 0 0 1 1 0 1 0 0 1 0 0 1 0 1 0 0 1 0 0]\n"
     ]
    }
   ],
   "source": [
    "print(y_pred[:20])"
   ]
  },
  {
   "cell_type": "code",
   "execution_count": 118,
   "metadata": {},
   "outputs": [
    {
     "name": "stdout",
     "output_type": "stream",
     "text": [
      "予測結果が 'predictions.csv' に保存されました。\n"
     ]
    }
   ],
   "source": [
    "output_df = test_df[['index']].copy()  # テストデータのindex列をコピー\n",
    "output_df['Y'] = y_pred  # 予測結果を追加\n",
    "\n",
    "# CSVファイルとして出力\n",
    "output_file_path = 'predictions.csv'  # 出力ファイルのパス\n",
    "output_df.to_csv(output_file_path, index=False)  # インデックスを含まずにCSVファイルに保存\n",
    "\n",
    "print(f\"予測結果が '{output_file_path}' に保存されました。\")\n"
   ]
  }
 ],
 "metadata": {
  "kernelspec": {
   "display_name": "signate-43",
   "language": "python",
   "name": "python3"
  },
  "language_info": {
   "codemirror_mode": {
    "name": "ipython",
    "version": 3
   },
   "file_extension": ".py",
   "mimetype": "text/x-python",
   "name": "python",
   "nbconvert_exporter": "python",
   "pygments_lexer": "ipython3",
   "version": "3.11.7"
  }
 },
 "nbformat": 4,
 "nbformat_minor": 2
}
